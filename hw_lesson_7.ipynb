{
 "cells": [
  {
   "attachments": {},
   "cell_type": "markdown",
   "metadata": {},
   "source": [
    "break, continue, pass\n",
    "1. Есть список list1 = [i for i in range(100)], создайте новый список с пробросом каждого пятого элемента (используйте continue)"
   ]
  },
  {
   "cell_type": "code",
   "execution_count": 2,
   "metadata": {},
   "outputs": [
    {
     "name": "stdout",
     "output_type": "stream",
     "text": [
      "[0, 1, 2, 3, 5, 6, 7, 8, 10, 11, 12, 13, 15, 16, 17, 18, 20, 21, 22, 23, 25, 26, 27, 28, 30, 31, 32, 33, 35, 36, 37, 38, 40, 41, 42, 43, 45, 46, 47, 48, 50, 51, 52, 53, 55, 56, 57, 58, 60, 61, 62, 63, 65, 66, 67, 68, 70, 71, 72, 73, 75, 76, 77, 78, 80, 81, 82, 83, 85, 86, 87, 88, 90, 91, 92, 93, 95, 96, 97, 98]\n"
     ]
    }
   ],
   "source": [
    "list1 = [i for i in range(100)]\n",
    "list2 = []\n",
    "for x in list1:\n",
    "    if (x+1)%5 != 0:\n",
    "        list2.append(x)\n",
    "    else:\n",
    "        continue\n",
    "print(list2)"
   ]
  },
  {
   "attachments": {},
   "cell_type": "markdown",
   "metadata": {},
   "source": [
    "2. Напишите скрипт который будет работать циклично в интерактивном режиме, скрипт должен запрашивать имя пользователя, если пользователь не вводя имя нажмет на Enter то скрипт должен завершиться (используйте break)"
   ]
  },
  {
   "cell_type": "code",
   "execution_count": 5,
   "metadata": {},
   "outputs": [
    {
     "name": "stdout",
     "output_type": "stream",
     "text": [
      "Привет, Oybek\n"
     ]
    }
   ],
   "source": [
    "while True:\n",
    "    x = input(\"Введите свое имя: \")\n",
    "    if x == '':\n",
    "        break\n",
    "    else:\n",
    "        print(f'Привет, {x}')"
   ]
  },
  {
   "attachments": {},
   "cell_type": "markdown",
   "metadata": {},
   "source": [
    "3. Есть список: list1 = ['micros', 'python', 'linux', 'windows', 'bobo'], из него составить новый список, но без буквы 'i', результат: list2 = ['mcros', 'python', 'lnux', 'wndows', 'bobo'] (используйте pass)"
   ]
  },
  {
   "cell_type": "code",
   "execution_count": 16,
   "metadata": {},
   "outputs": [
    {
     "name": "stdout",
     "output_type": "stream",
     "text": [
      "['mcros', 'python', 'lnux', 'wndows', 'bobo']\n",
      "['mcros', 'python', 'lnux', 'wndows', 'bobo']\n"
     ]
    }
   ],
   "source": [
    "list1 = ['micros', 'python', 'linux', 'windows', 'bobo']\n",
    "list2 = list(str(list1).replace('i','').replace(\"'\",\"\").replace('[','').replace(']','').replace(',','').split())\n",
    "list3 = [i.replace('i','') for i in list1]\n",
    "print(list2)\n",
    "print(list3)"
   ]
  },
  {
   "attachments": {},
   "cell_type": "markdown",
   "metadata": {},
   "source": [
    "Try/except/finally/else\n",
    "1. Напишите программу, которая запрашивает ввод двух значений. Если хотя бы одно из них не является числом, то должна выполняться конкатенация, то есть соединение, строк. В остальных случаях введенные числа суммируются.\n",
    "\n",
    "Примеры выполнения программы:\n",
    "Первое значение: 4\n",
    "Второе значение: 5\n",
    "Результат: 9.0\n",
    "Первое значение: a\n",
    "Второе значение: 9\n",
    "Результат: a9"
   ]
  },
  {
   "cell_type": "code",
   "execution_count": 21,
   "metadata": {},
   "outputs": [
    {
     "name": "stdout",
     "output_type": "stream",
     "text": [
      "Результат: we325\n"
     ]
    }
   ],
   "source": [
    "num_1 = input('Первое значение: ')\n",
    "num_2 = input('Второе значение: ')\n",
    "try:\n",
    "    print(f'Результат: {int(num_1)+int(num_2)}')\n",
    "except:\n",
    "    print(f'Результат: {num_1}{num_2}')"
   ]
  },
  {
   "attachments": {},
   "cell_type": "markdown",
   "metadata": {},
   "source": [
    "2. Есть список: list1 = [1, 'a', 3, 'b', 5, '6', 7, '8', 9, 'c'], необходимо разделить на два списка, в первом только цифровые значения, а во втором только строки"
   ]
  },
  {
   "cell_type": "code",
   "execution_count": 23,
   "metadata": {},
   "outputs": [
    {
     "name": "stdout",
     "output_type": "stream",
     "text": [
      "Строки: ['a', 'b', '6', '8', 'c'],\n",
      "Числа: [1, 3, 5, 7, 9]\n"
     ]
    }
   ],
   "source": [
    "list_1 = [1, 'a', 3, 'b', 5, '6', 7, '8', 9, 'c']\n",
    "list_2=[]\n",
    "list_3=[]\n",
    "for i in list_1:\n",
    "    if type(i) == str:\n",
    "        list_2.append(i)\n",
    "    elif type(i) == int:\n",
    "        list_3.append(i)\n",
    "print(f'Строки: {list_2},\\nЧисла: {list_3}')"
   ]
  },
  {
   "cell_type": "code",
   "execution_count": 27,
   "metadata": {},
   "outputs": [
    {
     "name": "stdout",
     "output_type": "stream",
     "text": [
      "1 элемент добавлен в лист числа\n",
      "'a' элемент добавлен в лист строки\n",
      "3 элемент добавлен в лист числа\n",
      "'b' элемент добавлен в лист строки\n",
      "5 элемент добавлен в лист числа\n",
      "'6' элемент добавлен в лист строки\n",
      "7 элемент добавлен в лист числа\n",
      "'8' элемент добавлен в лист строки\n",
      "9 элемент добавлен в лист числа\n",
      "'c' элемент добавлен в лист строки\n",
      "Строки: ['a', 'b', '6', '8', 'c'],\n",
      "Числа: [1, 3, 5, 7, 9]\n"
     ]
    }
   ],
   "source": [
    "list_1 = [1, 'a', 3, 'b', 5, '6', 7, '8', 9, 'c']\n",
    "list_2=[]\n",
    "list_3=[]\n",
    "for i in list_1:\n",
    "    if type(i) == str:\n",
    "        list_2.append(i)\n",
    "        print(f\"'{i}' элемент добавлен в лист строки\")\n",
    "    elif type(i) == int:\n",
    "        list_3.append(i)\n",
    "        print(f'{i} элемент добавлен в лист числа')\n",
    "print(f'Строки: {list_2},\\nЧисла: {list_3}')"
   ]
  },
  {
   "attachments": {},
   "cell_type": "markdown",
   "metadata": {},
   "source": [
    "4. Приведенный ниже код назначает 5-ю букву каждого слова в food новый список fifth. Однако код в настоящее время выдает ошибки. Вставьте предложение try/except, которое позволит запустить код и создать список 5-й буквы в каждом слове. Если слово недостаточно длинное, оно не должно ничего выводить. Примечание. pass — Оператор является нулевой операцией; ничего не произойдет при его выполнении.\n",
    "\n",
    "food = [\"chocolate\", \"chicken\", \"corn\", \"sandwich\", \"soup\", \"potatoes\", \"beef\", \"lox\", “lemonade\"]\n",
    "fifth = []\n",
    "for x in food:\n",
    "  fifth.append(x[4])"
   ]
  },
  {
   "cell_type": "code",
   "execution_count": 28,
   "metadata": {},
   "outputs": [
    {
     "name": "stdout",
     "output_type": "stream",
     "text": [
      "['o', 'k', 'w', 't', 'n']\n"
     ]
    }
   ],
   "source": [
    "food = [\"chocolate\", \"chicken\", \"corn\", \"sandwich\", \"soup\", \n",
    "        \"potatoes\", \"beef\", \"lox\", \"lemonade\"]\n",
    "fifth = []\n",
    "for x in food:\n",
    "    try:\n",
    "        fifth.append(x[4])\n",
    "    except:\n",
    "        pass\n",
    "print(fifth)"
   ]
  },
  {
   "attachments": {},
   "cell_type": "markdown",
   "metadata": {},
   "source": [
    "5. Приведенный ниже код делит значения элемента на самого себя, но вылетает с ошибками, необходимо учесть все типы ошибок и дописать код (условия цикла менять нельзя, использовать полный синтаксис try/except/else)\n",
    "\n",
    "my_list = [2, \"C\", 10, \"20\", \"micros\", 50, 0, '0', '30']\n",
    "for index in range(len(my_list)+5):\n",
    "    print(my_list[index] / my_list[index])\n",
    "Требуемый результат:"
   ]
  },
  {
   "cell_type": "code",
   "execution_count": 38,
   "metadata": {},
   "outputs": [
    {
     "name": "stdout",
     "output_type": "stream",
     "text": [
      "2 / 2 = 1.0\n",
      "Все полулилось с первой попытки так как элемент 2 является числом\n",
      "Ошибка ValueError с элементом: C так как тип элемента <class \"str\">\n",
      "10 / 10 = 1.0\n",
      "Все полулилось с первой попытки так как элемент 10 является числом\n",
      "20 / 20 = 1.0\n",
      "Но я сконвертировал значение 20 в число и результат уже распечатал\n",
      "Ошибка ValueError с элементом: micros так как тип элемента <class \"str\">\n",
      "50 / 50 = 1.0\n",
      "Все полулилось с первой попытки так как элемент 50 является числом\n",
      "На ноль делить нельзя\n",
      "Ошибка ValueError с элементом: 0 так как тип элемента <class \"str\">\n",
      "30 / 30 = 1.0\n",
      "Но я сконвертировал значение 30 в число и результат уже распечатал\n",
      "Список оказался слишком мал, индекс под номером 9 пуст\n",
      "Список оказался слишком мал, индекс под номером 10 пуст\n",
      "Список оказался слишком мал, индекс под номером 11 пуст\n",
      "Список оказался слишком мал, индекс под номером 12 пуст\n",
      "Список оказался слишком мал, индекс под номером 13 пуст\n"
     ]
    }
   ],
   "source": [
    "my_list = [2, \"C\", 10, \"20\", \"micros\", 50, 0, '0', '30']\n",
    "for index in range(len(my_list)+5):\n",
    "    try: \n",
    "        print(f'{(my_list[index])} / {(my_list[index])} = {(my_list[index]) / (my_list[index])}')\n",
    "        print(f'Все полулилось с первой попытки так как элемент {my_list[index]} является числом')\n",
    "    except TypeError:\n",
    "        try:\n",
    "            print(f'{int(my_list[index])} / {int(my_list[index])} = {int(my_list[index]) / int(my_list[index])}')\n",
    "            print(f'Но я сконвертировал значение {my_list[index]} в число и результат уже распечатал')\n",
    "        except:\n",
    "            print(f'Ошибка ValueError с элементом: {my_list[index]} так как тип элемента <class \"str\">')\n",
    "    except ZeroDivisionError:\n",
    "        print('На ноль делить нельзя')\n",
    "    except IndexError:\n",
    "        print(f'Список оказался слишком мал, индекс под номером {index} пуст')"
   ]
  },
  {
   "attachments": {},
   "cell_type": "markdown",
   "metadata": {},
   "source": [
    "6. Дописать код (нельзя использовать просто except)\n",
    "\n",
    "my_dict ={\"key1\":\"value1\",\"key2\":\"value2\",\"key3\":\"value3\"}\n",
    "search_key = \"non-existent key\"\n",
    "print(my_dict[search_key])\n",
    "Сорян, 'non-existent key' это не правильный ключ!"
   ]
  },
  {
   "cell_type": "code",
   "execution_count": 42,
   "metadata": {},
   "outputs": [
    {
     "name": "stdout",
     "output_type": "stream",
     "text": [
      "Сорян, 'non-existent key' это не правильный ключ!\n"
     ]
    }
   ],
   "source": [
    "my_dict = {\"key1\":\"value1\",\"key2\":\"value2\",\"key3\":\"value3\"}\n",
    "search_key = \"non-existent key\"\n",
    "try:\n",
    "    print(my_dict[search_key])\n",
    "except KeyError:\n",
    "    print(f\"Сорян, '{search_key}' это не правильный ключ!\")"
   ]
  },
  {
   "attachments": {},
   "cell_type": "markdown",
   "metadata": {},
   "source": [
    "7. Замените первый if на try/except/else\n",
    "\n",
    "import sys\n",
    "\n",
    "if len(sys.argv) < 2:\n",
    "        print(\"Вы не указали название города\")\n",
    "        print(\"Try again\")\n",
    "        exit()\n",
    "city = sys.argv[1]\n",
    "city = city.lower()\n",
    "if city == \"tashkent\"[0:len(city)]:\n",
    "        print (\"В Ташкенте тепло и солнечно\")\n",
    "elif city == \"london\"[0:len(city)]:\n",
    "        print (\"В Лондоне пасмурно и сыро\")\n",
    "elif city == \"moskow\"[0:len(city)]:\n",
    "        print (\"В Москве идёт сильный дождь\")\n",
    "elif city == \"paris\"[0:len(city)]:\n",
    "        print (\"погода для романтики\")\n",
    "elif city == \"rio de janeyro\"[0:len(city)]:\n",
    "        print (\"В Рио постоянно карнавалы\")\n",
    "\n",
    "else:\n",
    "        print (\"прогноз не ясен, карантин\")"
   ]
  },
  {
   "cell_type": "code",
   "execution_count": 3,
   "metadata": {},
   "outputs": [
    {
     "name": "stdout",
     "output_type": "stream",
     "text": [
      "прогноз не ясен, карантин\n"
     ]
    }
   ],
   "source": [
    "import sys\n",
    "city = input()\n",
    "if len(sys.argv) < 2:\n",
    "        print(\"Вы не указали название города\")\n",
    "        print(\"Try again\")\n",
    "        exit()\n",
    "city = sys.argv[1]\n",
    "city = city.lower()\n",
    "if city == \"tashkent\"[0:len(city)]:\n",
    "        print (\"В Ташкенте тепло и солнечно\")\n",
    "elif city == \"london\"[0:len(city)]:\n",
    "        print (\"В Лондоне пасмурно и сыро\")\n",
    "elif city == \"moskow\"[0:len(city)]:\n",
    "        print (\"В Москве идёт сильный дождь\")\n",
    "elif city == \"paris\"[0:len(city)]:\n",
    "        print (\"погода для романтики\")\n",
    "elif city == \"rio de janeyro\"[0:len(city)]:\n",
    "        print (\"В Рио постоянно карнавалы\")\n",
    "\n",
    "else:\n",
    "        print (\"прогноз не ясен, карантин\")"
   ]
  },
  {
   "attachments": {},
   "cell_type": "markdown",
   "metadata": {},
   "source": [
    "8. Следующий код работает отлично, если пользователь вводит цифровое значение, но всегда есть НО:\n",
    "\n",
    "min = int(input(\"Введите первое число: \"))\n",
    "max = int(input(\"Введите второе число: \"))\n",
    "\n",
    "for i in range(min, max+1):\n",
    "    print(f\"Квадрат числа {i} равен {i*i}\")"
   ]
  },
  {
   "cell_type": "code",
   "execution_count": 5,
   "metadata": {},
   "outputs": [
    {
     "name": "stdout",
     "output_type": "stream",
     "text": [
      "Oй, брат тут число нужно указать!\n"
     ]
    }
   ],
   "source": [
    "min = input(\"Введите первое число: \")\n",
    "max = input(\"Введите второе число: \")\n",
    "\n",
    "try:\n",
    "    for i in range(int(min), int(max)+1):\n",
    "        print(f\"Квадрат числа {i} равен {i*i}\")\n",
    "except ValueError:\n",
    "    print('Oй, брат тут число нужно указать!')"
   ]
  },
  {
   "attachments": {},
   "cell_type": "markdown",
   "metadata": {},
   "source": [
    "9. Ловить ошибки это конечно здорово, но уметь логировать их и записывать в файл еще лучше, задача разобраться со стандартной библиотекой logging\n",
    "\n",
    "Ниже пример:\n",
    "\n",
    "import logging # Загрузка библиотеки\n",
    "\n",
    "logging.basicConfig(filename='my_error.log') # Файл появится в том каталоге где запущен скрипт\n",
    "logger = logging\n",
    "\n",
    "try:\n",
    "    1/0\n",
    "except ZeroDivisionError as error:\n",
    "    logger.error(error)\n",
    "Результатом будет запись:\n",
    "\n",
    "ERROR:root:division by zero\n"
   ]
  },
  {
   "cell_type": "code",
   "execution_count": 37,
   "metadata": {},
   "outputs": [],
   "source": [
    "import logging\n",
    "import datetime\n",
    "logging.basicConfig(filename='./my_error.log') # Файл появится в том каталоге где запущен скрипт\n",
    "logger = logging\n",
    "current = datetime.datetime.now()\n",
    "try:\n",
    "    1/0\n",
    "except ZeroDivisionError as error:\n",
    "    with open('my_error.log', 'r+') as file:\n",
    "        file.write(str(current))\n",
    "    # logger.error(current)\n",
    "    logger.error(error)\n",
    "\n"
   ]
  }
 ],
 "metadata": {
  "kernelspec": {
   "display_name": "Python 3",
   "language": "python",
   "name": "python3"
  },
  "language_info": {
   "codemirror_mode": {
    "name": "ipython",
    "version": 3
   },
   "file_extension": ".py",
   "mimetype": "text/x-python",
   "name": "python",
   "nbconvert_exporter": "python",
   "pygments_lexer": "ipython3",
   "version": "3.11.4"
  },
  "orig_nbformat": 4
 },
 "nbformat": 4,
 "nbformat_minor": 2
}
