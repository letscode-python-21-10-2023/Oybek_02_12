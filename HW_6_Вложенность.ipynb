{
 "cells": [
  {
   "attachments": {},
   "cell_type": "markdown",
   "metadata": {},
   "source": [
    "Вложенность\n",
    "1) В задании создан словарь, с информацией о разных устройствах.\n",
    "\n",
    "Необходимо запросить у пользователя ввод имени устройства (r1, r2 или sw1). И вывести информацию о соответствующем устройстве\n",
    "\n",
    "devices = {\n",
    "    'r1': {\n",
    "        'location': 'Bukhara',\n",
    "        'vendor': 'Cisco',\n",
    "        'model': '4451',\n",
    "        'ios': '15.4',\n",
    "        'ip': '10.255.0.1'\n",
    "    },\n",
    "    'r2': {\n",
    "        'location': 'Samarkand',\n",
    "        'vendor': 'Cisco',\n",
    "        'model': '4451',\n",
    "        'ios': '15.4',\n",
    "        'ip': '10.255.0.2'\n",
    "    },\n",
    "    'sw1': {\n",
    "        'location': 'Tashkent',\n",
    "        'vendor': 'Cisco',\n",
    "        'model': '3850',\n",
    "        'ios': '3.6.XE',\n",
    "        'ip': '10.255.0.101',\n",
    "        'vlans': '10,20,30',\n",
    "        'routing': True\n",
    "    }\n",
    "}\n",
    "Введите название устройства [r1/г2/sw1]: r1\n",
    "Расположен                      Bukhara\n",
    "Вендор                          Cisco\n",
    "Модель                          4451\n",
    "Система (ios)                   15.4\n",
    "IP адрес                        10.255.0.1"
   ]
  },
  {
   "cell_type": "code",
   "execution_count": 41,
   "metadata": {},
   "outputs": [
    {
     "name": "stdout",
     "output_type": "stream",
     "text": [
      "r1\n",
      "\n",
      "Расположен: \t\tBukhara\n",
      "Вендор: \t\tCisco\n",
      "Модель \t\t\t4451\n",
      "Система (ios) \t\t15.4\n",
      "IP адрес \t\t10.255.0.1\n"
     ]
    }
   ],
   "source": [
    "devices = {\n",
    "    'r1': {\n",
    "        'location': 'Bukhara',\n",
    "        'vendor': 'Cisco',\n",
    "        'model': '4451',\n",
    "        'ios': '15.4',\n",
    "        'ip': '10.255.0.1'\n",
    "    },\n",
    "    'r2': {\n",
    "        'location': 'Samarkand',\n",
    "        'vendor': 'Cisco',\n",
    "        'model': '4451',\n",
    "        'ios': '15.4',\n",
    "        'ip': '10.255.0.2'\n",
    "    },\n",
    "    'sw1': {\n",
    "        'location': 'Tashkent',\n",
    "        'vendor': 'Cisco',\n",
    "        'model': '3850',\n",
    "        'ios': '3.6.XE',\n",
    "        'ip': '10.255.0.101',\n",
    "        'vlans': '10,20,30',\n",
    "        'routing': True\n",
    "    }\n",
    "}\n",
    "input_1 = input('Введите название устройства [r1/г2/sw1]: ')\n",
    "print(input_1)\n",
    "location = devices.get(f'{input_1}')['location']\n",
    "vendor = devices.get(f'{input_1}')['vendor']\n",
    "model = devices.get(f'{input_1}')['model']\n",
    "ios = devices.get(f'{input_1}')['ios']\n",
    "ip = devices.get(f'{input_1}')['ip']\n",
    "\n",
    "print(f'\\nРасположен: \\t\\t{location}\\nВендор: \\t\\t{vendor}\\nМодель \\t\\t\\t{model}\\nСистема (ios) \\t\\t{ios}\\nIP адрес \\t\\t{ip}')\n"
   ]
  },
  {
   "attachments": {},
   "cell_type": "markdown",
   "metadata": {},
   "source": [
    "b. "
   ]
  },
  {
   "cell_type": "code",
   "execution_count": 46,
   "metadata": {},
   "outputs": [
    {
     "name": "stdout",
     "output_type": "stream",
     "text": [
      "\n",
      "Расположен: \t\tBukhara\n",
      "Вендор: \t\tCisco\n",
      "Модель \t\t\t4451\n",
      "Система (ios) \t\t15.4\n",
      "IP адрес \t\t10.255.0.1\n"
     ]
    }
   ],
   "source": [
    "input_1 = input('Введите название устройства [r1/г2/sw1]: ')\n",
    "if input_1 in devices:\n",
    "    location = devices.get(f'{input_1}').get('location')\n",
    "    vendor = devices.get(f'{input_1}').get('vendor')\n",
    "    model = devices.get(f'{input_1}').get('model')\n",
    "    ios = devices.get(f'{input_1}').get('ios')\n",
    "    ip = devices.get(f'{input_1}').get('ip')\n",
    "    print(f'\\nРасположен: \\t\\t{location}\\nВендор: \\t\\t{vendor}\\nМодель \\t\\t\\t{model}\\nСистема (ios) \\t\\t{ios}\\nIP адрес \\t\\t{ip}')\n",
    "else:\n",
    "    print('not found')"
   ]
  },
  {
   "attachments": {},
   "cell_type": "markdown",
   "metadata": {},
   "source": [
    "2) Есть словарь кодов товаров и словарь количества товара на складе, задача сопоставить два словаря и высчитать общее количество."
   ]
  },
  {
   "cell_type": "code",
   "execution_count": 74,
   "metadata": {},
   "outputs": [
    {
     "name": "stdout",
     "output_type": "stream",
     "text": [
      "Продукт: Лампа, Количество: 27, Стоимость: 1134\n",
      "Продукт: Стол, Количество: 54, Стоимость: 27860\n",
      "Продукт: Диван, Количество: 3, Стоимость: 3550\n",
      "Продукт: Стул, Количество: 105, Стоимость: 10311\n"
     ]
    }
   ],
   "source": [
    "goods = {\n",
    " 'Лампа': '12345',\n",
    " 'Стол': '23456',\n",
    " 'Диван': '34567',\n",
    " 'Стул': '45678',\n",
    "}\n",
    "store = {\n",
    " '12345': [\n",
    "  {\n",
    "   'quantity': 27,\n",
    "   'price': 42\n",
    "  },\n",
    " ],\n",
    " '23456': [\n",
    "  {\n",
    "   'quantity': 22,\n",
    "   'price': 510\n",
    "  },\n",
    "  {\n",
    "   'quantity': 32,\n",
    "   'price': 520\n",
    "  },\n",
    "],\n",
    " '34567': [\n",
    "  {\n",
    "   'quantity': 2,\n",
    "   'price': 1200\n",
    "  },\n",
    "  {\n",
    "   'quantity': 1,\n",
    "    'price': 1150\n",
    "  },\n",
    " ],\n",
    " '45678': [\n",
    "  {\n",
    "   'quantity': 50,\n",
    "   'price': 100\n",
    "  },\n",
    "  {\n",
    "   'quantity': 12,\n",
    "   'price': 95\n",
    "  },\n",
    "  {\n",
    "   'quantity': 43,\n",
    "   'price': 97\n",
    "  },\n",
    " ],\n",
    "}\n",
    "\n",
    "goods_keys = list(goods.keys())\n",
    "goods_id = list(goods.values())\n",
    "cnt_1 = store.get(goods_id[0])[0]['quantity']\n",
    "cnt_2 = store.get(goods_id[1])[0]['quantity'] + store.get(goods_id[1])[1]['quantity']\n",
    "cnt_3 = store.get(goods_id[2])[0]['quantity'] + store.get(goods_id[2])[1]['quantity']\n",
    "cnt_4 = store.get(goods_id[3])[0]['quantity'] + store.get(goods_id[3])[1]['quantity'] + store.get(goods_id[3])[2]['quantity']\n",
    "product_1 = store.get(goods_id[0])[0]['quantity']*store.get(goods_id[0])[0]['price']\n",
    "product_2 = store.get(goods_id[1])[0]['quantity']*store.get(goods_id[1])[0]['price']+store.get(goods_id[1])[1]['quantity']*store.get(goods_id[1])[1]['price']\n",
    "product_3 = store.get(goods_id[2])[0]['quantity']*store.get(goods_id[2])[0]['price']+store.get(goods_id[2])[1]['quantity']*store.get(goods_id[2])[1]['price']\n",
    "product_4 = store.get(goods_id[3])[0]['quantity']*store.get(goods_id[3])[0]['price']+store.get(goods_id[3])[1]['quantity']*store.get(goods_id[3])[1]['price']+store.get(goods_id[3])[2]['quantity']*store.get(goods_id[3])[2]['price']\n",
    "print(f'Продукт: {goods_keys[0]}, Количество: {cnt_1}, Стоимость: {product_1}')\n",
    "print(f'Продукт: {goods_keys[1]}, Количество: {cnt_2}, Стоимость: {product_2}')\n",
    "print(f'Продукт: {goods_keys[2]}, Количество: {cnt_3}, Стоимость: {product_3}')\n",
    "print(f'Продукт: {goods_keys[3]}, Количество: {cnt_4}, Стоимость: {product_4}')\n"
   ]
  }
 ],
 "metadata": {
  "kernelspec": {
   "display_name": ".venv",
   "language": "python",
   "name": "python3"
  },
  "language_info": {
   "codemirror_mode": {
    "name": "ipython",
    "version": 3
   },
   "file_extension": ".py",
   "mimetype": "text/x-python",
   "name": "python",
   "nbconvert_exporter": "python",
   "pygments_lexer": "ipython3",
   "version": "3.11.4"
  },
  "orig_nbformat": 4
 },
 "nbformat": 4,
 "nbformat_minor": 2
}
