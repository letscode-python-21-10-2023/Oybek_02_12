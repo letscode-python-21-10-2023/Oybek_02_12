{
 "cells": [
  {
   "attachments": {},
   "cell_type": "markdown",
   "metadata": {},
   "source": [
    "Списки (List) / Методы списков\n",
    "\n",
    "1) Есть список a = [1, 1, 2, 3, 5, 8, 13, 21, 34, 55, 89]\n",
    "\n",
    "Выведите в отдельный список числа, которые меньше или равны 5 и числа, которые больше 5."
   ]
  },
  {
   "cell_type": "code",
   "execution_count": 1,
   "metadata": {},
   "outputs": [
    {
     "name": "stdout",
     "output_type": "stream",
     "text": [
      "Список чисел меньше или равных 5: [1, 1, 2, 3, 5]\n",
      "Список чисел больше 5: [8, 13, 21, 34, 55, 89]\n"
     ]
    }
   ],
   "source": [
    "a = [1, 1, 2, 3, 5, 8, 13, 21, 34, 55, 89]\n",
    "a_l5 = []\n",
    "a_h5 = []\n",
    "for i in a:\n",
    "    if i<=5:\n",
    "        a_l5.append(i)\n",
    "    else:\n",
    "        a_h5.append(i)\n",
    "print(f'Список чисел меньше или равных 5: {a_l5}\\nСписок чисел больше 5: {a_h5}')"
   ]
  },
  {
   "attachments": {},
   "cell_type": "markdown",
   "metadata": {},
   "source": [
    "2) Вы принимаете от пользователя его имя, фамилию, возраст. Сохраните их в соответствующие переменные. Сохраните полученные значения в список."
   ]
  },
  {
   "cell_type": "code",
   "execution_count": 2,
   "metadata": {},
   "outputs": [
    {
     "name": "stdout",
     "output_type": "stream",
     "text": [
      "Список данных пользователя: ['Oybek', 'Ismatov', '29']\n"
     ]
    }
   ],
   "source": [
    "firs_name = input('Введите ваше имя: ')\n",
    "second_name = input('Введите вашу фамилия: ')\n",
    "age = input('Введите ваш возрост: ')\n",
    "l=[firs_name,second_name,age]\n",
    "print(f'Список данных пользователя: {l}')"
   ]
  },
  {
   "attachments": {},
   "cell_type": "markdown",
   "metadata": {},
   "source": [
    "3) Напишите программу, которая принимает от пользователя секвенцию чисел, разделенных запятой и пробелом. После чего запишите каждое число в список."
   ]
  },
  {
   "cell_type": "code",
   "execution_count": 3,
   "metadata": {},
   "outputs": [
    {
     "name": "stdout",
     "output_type": "stream",
     "text": [
      "['3', '35', '54', '23', '11', '34']\n"
     ]
    }
   ],
   "source": [
    "x=input('Введите секвенцию чисел разделенных запятой и пробелом: ')\n",
    "s=x.split(', ')\n",
    "print(f'Список чисел: {s}')"
   ]
  },
  {
   "attachments": {},
   "cell_type": "markdown",
   "metadata": {},
   "source": [
    "4) Напишите программу, которая принимает пример со СЛОЖЕНИЕМ у пользователя и затем выдает результат. (решите с помощью генератора списка)"
   ]
  },
  {
   "cell_type": "code",
   "execution_count": 7,
   "metadata": {},
   "outputs": [
    {
     "name": "stdout",
     "output_type": "stream",
     "text": [
      "результат: 24\n"
     ]
    }
   ],
   "source": [
    "x=input('Введите пример со сложением: ')\n",
    "t=x.split(' + ')\n",
    "u=[]\n",
    "for i in t:\n",
    "    u.append(int(i))\n",
    "s=sum(u)\n",
    "print(f'результат: {s}')"
   ]
  },
  {
   "attachments": {},
   "cell_type": "markdown",
   "metadata": {},
   "source": [
    "5) Напишите программу, которая будет принимать три имени в качестве входных данных от пользователя в одном input() вызове функции."
   ]
  },
  {
   "cell_type": "code",
   "execution_count": 8,
   "metadata": {},
   "outputs": [
    {
     "name": "stdout",
     "output_type": "stream",
     "text": [
      "Первое имя: Карим \n",
      "Второе имя: Санжар \n",
      "третье имя: Алексей\n"
     ]
    }
   ],
   "source": [
    "fio=input('Введите три любых имени разделенные между собой пробелом: ')\n",
    "x=fio.split()\n",
    "print(f'Первое имя: {x[0]} \\nВторое имя: {x[1]} \\nтретье имя: {x[2]}')"
   ]
  },
  {
   "attachments": {},
   "cell_type": "markdown",
   "metadata": {},
   "source": [
    "6) Дан список чисел numbers = [1, 2, 3, 4, 5, 6, 7]. напишите программу, которая превращает каждый элемент списка в его квадрат."
   ]
  },
  {
   "cell_type": "code",
   "execution_count": 9,
   "metadata": {},
   "outputs": [
    {
     "name": "stdout",
     "output_type": "stream",
     "text": [
      "Список квадратов: [1, 4, 9, 16, 25, 36, 49]\n"
     ]
    }
   ],
   "source": [
    "numbers = [1, 2, 3, 4, 5, 6, 7]\n",
    "num2=[]\n",
    "for i in numbers:\n",
    "    num2.append(i**2)\n",
    "print(f'Список квадратов: {num2}')"
   ]
  },
  {
   "attachments": {},
   "cell_type": "markdown",
   "metadata": {},
   "source": [
    "7) Создайте список из любимых вами блюд.\n",
    "\n",
    "Создайте список из любимых блюд вашего друга, скопировав свой список.\n",
    "Убедитесь что два списка разные, добавив по одному разному блюду в каждый список.\n",
    "Выведите два списка."
   ]
  },
  {
   "cell_type": "code",
   "execution_count": 11,
   "metadata": {},
   "outputs": [
    {
     "name": "stdout",
     "output_type": "stream",
     "text": [
      "список моих любимих блюд: \t['Плов', 'Шашлик', 'Манты', 'Лагман']\n",
      "список любимих блюд моего друга: ['Плов', 'Шашлик', 'Манты', 'Лагман']\n",
      " их ид: \n",
      "4833435264\n",
      "4833698816\n"
     ]
    }
   ],
   "source": [
    "my_eats = ['Плов','Шашлик','Манты']\n",
    "friend_eats = my_eats.copy()\n",
    "my_eats.append('Лагман')\n",
    "friend_eats.append('Мампар')\n",
    "print(f'список моих любимих блюд: \\t{my_eats}\\nсписок любимих блюд моего друга: {my_eats}\\n их ид: \\n{id(my_eats)}\\n{id(friend_eats)}')"
   ]
  },
  {
   "attachments": {},
   "cell_type": "markdown",
   "metadata": {},
   "source": [
    "8) Создайте переменную user_num, которая будет принимать от пользователя число. Создайте числовой список от 1 до значения из переменной user_num (значение из переменной включительно). Выведите сам список и сумму его чисел."
   ]
  },
  {
   "cell_type": "code",
   "execution_count": 15,
   "metadata": {},
   "outputs": [
    {
     "name": "stdout",
     "output_type": "stream",
     "text": [
      "Список чисел в диапазоне от 1 до 8: [1, 2, 3, 4, 5, 6, 7, 8]\n",
      "Сумма списка чилел равна: 36\n"
     ]
    }
   ],
   "source": [
    "user_num = int(input('Введите число: '))\n",
    "nums = []\n",
    "for i in range(1,user_num+1):\n",
    "    nums.append(i)\n",
    "sum_nums=sum(nums)\n",
    "print(f'Список чисел в диапазоне от 1 до {user_num}: {nums}\\nСумма списка чилел равна: {sum_nums}')"
   ]
  },
  {
   "attachments": {},
   "cell_type": "markdown",
   "metadata": {},
   "source": [
    "9) Создайте два числовых списка от 1 до 100. Первый будет состоять только из четных чисел, а второй из нечётных. Выведите сам список и сумму его чисел."
   ]
  },
  {
   "cell_type": "code",
   "execution_count": 19,
   "metadata": {},
   "outputs": [
    {
     "name": "stdout",
     "output_type": "stream",
     "text": [
      "Список четных чисел: [2, 4, 6, 8, 10, 12, 14, 16, 18, 20, 22, 24, 26, 28, 30, 32, 34, 36, 38, 40, 42, 44, 46, 48, 50, 52, 54, 56, 58, 60, 62, 64, 66, 68, 70, 72, 74, 76, 78, 80, 82, 84, 86, 88, 90, 92, 94, 96, 98]\n",
      "Сумма четных чисел: 2450\n",
      "Список нечетных чисел: [1, 3, 5, 7, 9, 11, 13, 15, 17, 19, 21, 23, 25, 27, 29, 31, 33, 35, 37, 39, 41, 43, 45, 47, 49, 51, 53, 55, 57, 59, 61, 63, 65, 67, 69, 71, 73, 75, 77, 79, 81, 83, 85, 87, 89, 91, 93, 95, 97, 99]\n",
      "Сумма нечетных чисел: 2500\n"
     ]
    }
   ],
   "source": [
    "even_nums = []\n",
    "odd_nums = []\n",
    "for i in range(1,100):\n",
    "    if i%2 == 0:\n",
    "        even_nums.append(i)\n",
    "    else:\n",
    "        odd_nums.append(i)\n",
    "print(f'Список четных чисел: {even_nums}\\nСумма четных чисел: {sum(even_nums)}\\nСписок нечетных чисел: {odd_nums}\\nСумма нечетных чисел: {sum(odd_nums)}')"
   ]
  },
  {
   "attachments": {},
   "cell_type": "markdown",
   "metadata": {},
   "source": [
    "10) Напишите программу, которая выводит все четные числа из списка в исходном порядке, и останавливается когда число равно 815.\n",
    "numbers = [386, 462, 47, 418, 907, 344, 236, 375, 823, 566, 597, 978, 328, 615, 953, 345, 399, 162, 758, 219, 918, 237, 412, 566, 826, 248, 866, 950, 626, 949, 687, 217, 815, 67, 104, 58, 512, 24, 892, 894, 767, 553, 81, 379, 843, 831, 445, 742, 717, 958,743, 527]"
   ]
  },
  {
   "cell_type": "code",
   "execution_count": 23,
   "metadata": {},
   "outputs": [
    {
     "name": "stdout",
     "output_type": "stream",
     "text": [
      "[386, 462, 418, 344, 236, 566, 978, 328, 162, 758, 918, 412, 566, 826, 248, 866, 950, 626]\n"
     ]
    }
   ],
   "source": [
    "numbers = [386, 462, 47, 418, 907, 344, 236, 375, 823, 566, 597, 978, 328, 615, 953, 345, 399, 162, 758, 219, 918, 237, 412, 566, 826, 248, 866, 950, 626, 949, 687, 217, 815, 67, 104, 58, 512, 24, 892, 894, 767, 553, 81, 379, 843, 831, 445, 742, 717, 958,743, 527]\n",
    "num_5=[]\n",
    "for i in numbers:\n",
    "    if i!=815:\n",
    "        if i%2==0:\n",
    "            num_5.append(i)\n",
    "    elif i==815:\n",
    "        break\n",
    "print(num_5)"
   ]
  },
  {
   "attachments": {},
   "cell_type": "markdown",
   "metadata": {},
   "source": [
    "11 a) Подсчитайте общее количество цифр в числе.\n",
    "Например, число 75869 , поэтому на выходе должно быть 5."
   ]
  },
  {
   "cell_type": "code",
   "execution_count": null,
   "metadata": {},
   "outputs": [],
   "source": [
    "while True:\n",
    "    num1 = input('Введите свое число: ')\n",
    "    print(f'Кол-во цифр в числе {num1} равна {len(num1)}')"
   ]
  },
  {
   "attachments": {},
   "cell_type": "markdown",
   "metadata": {},
   "source": [
    "11 b) Подсчитайте общее количество цифр в числе.\n",
    "Например, число 75869 , поэтому на выходе должно быть 5."
   ]
  },
  {
   "cell_type": "code",
   "execution_count": null,
   "metadata": {},
   "outputs": [],
   "source": [
    "while True:\n",
    "    num1 = input('Введите свое число: ')\n",
    "    list1=[]\n",
    "    cnt=0\n",
    "    for i in num1:\n",
    "        list1.append(i)\n",
    "        cnt+=1\n",
    "    print(f'Кол-во цифр в числе {num1} равна {cnt}')"
   ]
  },
  {
   "attachments": {},
   "cell_type": "markdown",
   "metadata": {},
   "source": [
    "12) ** Напишите программу для отображения всех простых чисел в диапазоне (Учтите что пользователь может ввести отрицательное число)\n",
    "\n",
    "(Для справки: Простое число — это число, которое нельзя получить путем умножения других целых чисел. Простое число — это натуральное число больше 1, которое не является произведением двух меньших натуральных чисел.\n",
    "\n",
    "Например:\n",
    "— 6 не является простым числом, потому что его можно получить как 2 × 3 = 6\n",
    "— 37 — простое число, потому что никакие другие целые числа не умножаются вместе, чтобы получить его.)"
   ]
  },
  {
   "cell_type": "code",
   "execution_count": 54,
   "metadata": {},
   "outputs": [
    {
     "name": "stdout",
     "output_type": "stream",
     "text": [
      "2\n",
      "3\n",
      "5\n",
      "7\n",
      "11\n",
      "13\n",
      "17\n",
      "19\n",
      "23\n",
      "29\n",
      "31\n",
      "37\n",
      "41\n",
      "43\n",
      "47\n"
     ]
    }
   ],
   "source": [
    "num_3 = int(input('Введите положительный стартовый номер: '))\n",
    "num_4 = int(input('Введите положительный конечный номер: '))\n",
    "def prime_number(a):\n",
    "    x=False\n",
    "    for i in range(2,a):\n",
    "        if a%i == 0:\n",
    "            x=False\n",
    "            break\n",
    "        else:\n",
    "            x=True\n",
    "            continue\n",
    "    return x\n",
    "print(2)\n",
    "for i in range(2,num_4):\n",
    "    if prime_number(i)==True:\n",
    "        print(f'{i}')"
   ]
  },
  {
   "attachments": {},
   "cell_type": "markdown",
   "metadata": {},
   "source": [
    "13) *** Обработать строку ospf_route и вывести информацию на стандартный поток вывода как на картинке ниже:\n",
    "\n",
    "\n",
    "\n",
    "для практики возьмите список маршрутов со своего роутера и попробуйте преобразить вывод всех таблиц маршрутов\n"
   ]
  },
  {
   "cell_type": "code",
   "execution_count": 67,
   "metadata": {},
   "outputs": [
    {
     "name": "stdout",
     "output_type": "stream",
     "text": [
      "\n",
      "Protocol: \t\t\tOSPF\n",
      "Network: \t\t\t10.0.24.0/24\n",
      "AD\\Metric: \t\t\t[110/41]\n",
      "Next-Hop:  \t\t\t10.0.13.3\n",
      "Last update: \t\t\t3d18h,\n",
      "Outbound Interface: \t\tFastEthernet0/0\n"
     ]
    }
   ],
   "source": [
    "str_1 = \"ospf_route = 'O        10.0.24.0/24 [110/41] via 10.0.13.3, 3d18h, FastEthernet0/0'\"\n",
    "m = str_1.split()\n",
    "protocol = m[0].split('_')[0].upper()\n",
    "network = m[3]\n",
    "ad_metric = m[4]\n",
    "next_hop = m[6].replace(',','')\n",
    "last_update = m[7]\n",
    "outbound_interface = m[8].replace(\"'\",\"\")\n",
    "\n",
    "print(f'\\nProtocol: \\t\\t\\t{protocol}\\nNetwork: \\t\\t\\t{network}\\nAD\\Metric: \\t\\t\\t{ad_metric}\\nNext-Hop:  \\t\\t\\t{next_hop}\\nLast update: \\t\\t\\t{last_update}\\nOutbound Interface: \\t\\t{outbound_interface}')"
   ]
  },
  {
   "attachments": {},
   "cell_type": "markdown",
   "metadata": {},
   "source": [
    "14) *** Получите список VLANов со строки:"
   ]
  },
  {
   "cell_type": "code",
   "execution_count": 69,
   "metadata": {},
   "outputs": [
    {
     "name": "stdout",
     "output_type": "stream",
     "text": [
      "['1', '3', '10', '20', '30', '100']\n"
     ]
    }
   ],
   "source": [
    "config = 'switchport trunk allowed vlan 1,3,10,20,30,100'\n",
    "nums=config.split()[-1].split(',')\n",
    "print(nums)"
   ]
  }
 ],
 "metadata": {
  "kernelspec": {
   "display_name": "Python 3",
   "language": "python",
   "name": "python3"
  },
  "language_info": {
   "codemirror_mode": {
    "name": "ipython",
    "version": 3
   },
   "file_extension": ".py",
   "mimetype": "text/x-python",
   "name": "python",
   "nbconvert_exporter": "python",
   "pygments_lexer": "ipython3",
   "version": "3.11.4"
  },
  "orig_nbformat": 4
 },
 "nbformat": 4,
 "nbformat_minor": 2
}
