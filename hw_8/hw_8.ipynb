{
 "cells": [
  {
   "attachments": {},
   "cell_type": "markdown",
   "metadata": {},
   "source": [
    "Функции в python\n",
    "1. Напишите функцию, чтобы найти максимальное из трех чисел"
   ]
  },
  {
   "cell_type": "code",
   "execution_count": 4,
   "metadata": {},
   "outputs": [
    {
     "data": {
      "text/plain": [
       "7"
      ]
     },
     "execution_count": 4,
     "metadata": {},
     "output_type": "execute_result"
    }
   ],
   "source": [
    "def find_maximum(a,b,c:int):\n",
    "        return max(a, b, c)\n",
    "\n",
    "\n",
    "find_maximum(1,5,7)"
   ]
  },
  {
   "attachments": {},
   "cell_type": "markdown",
   "metadata": {},
   "source": [
    "2. Напишите функцию, для суммирования всех чисел в списке. Не использовать встроенную функцию sum\n",
    "Образец списка: (8, 2, 3, 0, 7)\n",
    "Результат: 20"
   ]
  },
  {
   "cell_type": "code",
   "execution_count": 5,
   "metadata": {},
   "outputs": [
    {
     "data": {
      "text/plain": [
       "285"
      ]
     },
     "execution_count": 5,
     "metadata": {},
     "output_type": "execute_result"
    }
   ],
   "source": [
    "def find_sum(list_1:list):\n",
    "    sum=0\n",
    "    for i in list_1:\n",
    "        sum+=i\n",
    "    return sum\n",
    "\n",
    "\n",
    "list_1 = [12,34,64,78,23,65,11,32,-34]\n",
    "find_sum(list_1)"
   ]
  },
  {
   "attachments": {},
   "cell_type": "markdown",
   "metadata": {},
   "source": [
    "3. Напишите функцию, для умножения всех чисел в списке\n",
    "Образец списка: (8, 2, 3, -1, 7)\n",
    "Результат: -336"
   ]
  },
  {
   "cell_type": "code",
   "execution_count": 6,
   "metadata": {},
   "outputs": [
    {
     "data": {
      "text/plain": [
       "36441606389760"
      ]
     },
     "execution_count": 6,
     "metadata": {},
     "output_type": "execute_result"
    }
   ],
   "source": [
    "def find_multiple(list_1:list):\n",
    "    sum=1\n",
    "    for i in list_1:\n",
    "        sum*=i\n",
    "    return sum\n",
    "\n",
    "\n",
    "list_1 = [12,34,64,78,23,65,-11,32,-34]\n",
    "find_multiple(list_1)"
   ]
  },
  {
   "attachments": {},
   "cell_type": "markdown",
   "metadata": {},
   "source": [
    "4. Напишите функцию, для переворота строки\n",
    "Пример строки: 1234abcd\n",
    "Результат: dcba4321"
   ]
  },
  {
   "cell_type": "code",
   "execution_count": 7,
   "metadata": {},
   "outputs": [
    {
     "data": {
      "text/plain": [
       "'dcba4321'"
      ]
     },
     "execution_count": 7,
     "metadata": {},
     "output_type": "execute_result"
    }
   ],
   "source": [
    "def reverse_string(s):\n",
    "    st=''\n",
    "    for i in s[::-1]:\n",
    "        st+=i\n",
    "    return st\n",
    "\n",
    "\n",
    "reverse_string('1234abcd')"
   ]
  },
  {
   "attachments": {},
   "cell_type": "markdown",
   "metadata": {},
   "source": [
    "5. Напишите функцию, для вычисления факториала числа (неотрицательное целое число). Функция принимает число в качестве аргумента\n",
    "\n",
    "5! = 1*2*3*4*5"
   ]
  },
  {
   "cell_type": "code",
   "execution_count": 8,
   "metadata": {},
   "outputs": [
    {
     "data": {
      "text/plain": [
       "120"
      ]
     },
     "execution_count": 8,
     "metadata": {},
     "output_type": "execute_result"
    }
   ],
   "source": [
    "def factorial(n:int):\n",
    "    f=1\n",
    "    for i in range(1,n+1):\n",
    "        f*=i \n",
    "    return f\n",
    "\n",
    "\n",
    "factorial(5)"
   ]
  },
  {
   "attachments": {},
   "cell_type": "markdown",
   "metadata": {},
   "source": [
    "6. Напишите функцию, которая принимает строку и вычисляет количество букв верхнего и нижнего регистра\n",
    "Пример строки: ‘The quick Brow Fox’\n",
    "Результат:\n",
    "Кол-во символов в верхнем регистре: 3\n",
    "Кол-во символов в нижнем регистре: 12"
   ]
  },
  {
   "cell_type": "code",
   "execution_count": 9,
   "metadata": {},
   "outputs": [
    {
     "name": "stdout",
     "output_type": "stream",
     "text": [
      "Кол-во символов в верхнем регистре: 3\n",
      "Кол-во символов в нижнем регистре: 12\n"
     ]
    },
    {
     "data": {
      "text/plain": [
       "{'Кол-во символов в верхнем регистре:': '3',\n",
       " 'Кол-во символов в нижнем регистре:': '12'}"
      ]
     },
     "execution_count": 9,
     "metadata": {},
     "output_type": "execute_result"
    }
   ],
   "source": [
    "def letters(s:str):\n",
    "    u=0\n",
    "    l=0\n",
    "    for i in s:\n",
    "        if i.isupper() == True:\n",
    "            u+=1\n",
    "        elif i.islower() == True:\n",
    "            l+=1\n",
    "    print(f'Кол-во символов в верхнем регистре: {u}\\nКол-во символов в нижнем регистре: {l}')\n",
    "    return {'Кол-во символов в верхнем регистре:':f'{u}', 'Кол-во символов в нижнем регистре:':f'{l}'}\n",
    "\n",
    "\n",
    "letters('The quick Brow Fox')"
   ]
  },
  {
   "attachments": {},
   "cell_type": "markdown",
   "metadata": {},
   "source": [
    "7. Напишите функцию, которая принимает слово и определяет является ли оно палиндромом (палиндром — Слово или фраза, которые одинаково читаются слева направо и справа налево.)"
   ]
  },
  {
   "cell_type": "code",
   "execution_count": 14,
   "metadata": {},
   "outputs": [
    {
     "name": "stdout",
     "output_type": "stream",
     "text": [
      "False\n",
      "True\n"
     ]
    }
   ],
   "source": [
    "def polindrom(s:str):\n",
    "    if s.upper() == reverse_string(s).upper():\n",
    "        return True\n",
    "    else:\n",
    "        return False\n",
    "\n",
    "\n",
    "print(polindrom('malika'))\n",
    "print(polindrom('Aziza'))"
   ]
  },
  {
   "attachments": {},
   "cell_type": "markdown",
   "metadata": {},
   "source": [
    "8. Пользователь делает вклад в размере n рублей сроком на years лет под 10% годовых. Написать функцию bank, принимающая количество денег и лет, и возвращающую сумму, которая будет на счете через years лет"
   ]
  },
  {
   "cell_type": "code",
   "execution_count": 16,
   "metadata": {},
   "outputs": [
    {
     "data": {
      "text/plain": [
       "107179.44"
      ]
     },
     "execution_count": 16,
     "metadata": {},
     "output_type": "execute_result"
    }
   ],
   "source": [
    "def bank(n,year):\n",
    "    return round(n*(1.1**year),2)\n",
    "\n",
    "\n",
    "bank(50000,8)"
   ]
  },
  {
   "attachments": {},
   "cell_type": "markdown",
   "metadata": {},
   "source": [
    "9. С помощью функции извлеките из списка числа, делимые на 15\n",
    "nums = [45, 55, 60, 37, 100, 105, 220]"
   ]
  },
  {
   "cell_type": "code",
   "execution_count": 18,
   "metadata": {},
   "outputs": [
    {
     "data": {
      "text/plain": [
       "[45, 60, 105]"
      ]
     },
     "execution_count": 18,
     "metadata": {},
     "output_type": "execute_result"
    }
   ],
   "source": [
    "nums = [45, 55, 60, 37, 100, 105, 220]\n",
    "\n",
    "def devider(list_:list):\n",
    "    x = []\n",
    "    for i in list_:\n",
    "        if i%15 == 0:\n",
    "            x.append(i)\n",
    "    return x\n",
    "\n",
    "\n",
    "devider(nums)"
   ]
  },
  {
   "attachments": {},
   "cell_type": "markdown",
   "metadata": {},
   "source": [
    "10. Напишите функцию, которое принимает целое число и возвращает сумму цифр целого числа 108 -> 9"
   ]
  },
  {
   "cell_type": "code",
   "execution_count": 21,
   "metadata": {},
   "outputs": [
    {
     "name": "stdout",
     "output_type": "stream",
     "text": [
      "108 -> 9\n"
     ]
    },
    {
     "data": {
      "text/plain": [
       "9"
      ]
     },
     "execution_count": 21,
     "metadata": {},
     "output_type": "execute_result"
    }
   ],
   "source": [
    "def sum_digit(n):\n",
    "    sum=0\n",
    "    for i in str(n):\n",
    "        sum+=int(i)\n",
    "    print(f'{n} -> {sum}')\n",
    "    return sum\n",
    "\n",
    "\n",
    "sum_digit(108)\n"
   ]
  },
  {
   "attachments": {},
   "cell_type": "markdown",
   "metadata": {},
   "source": [
    "11. Напишите функцию, которая будет принимать количество секунд и возвращать их в днях-часах-минутах-секундах\n",
    "91000 секунд = 1 день, 1 час, 16 минут, 40 секунд"
   ]
  },
  {
   "cell_type": "code",
   "execution_count": 27,
   "metadata": {},
   "outputs": [
    {
     "data": {
      "text/plain": [
       "'91000 секунд = 1 день, 1 час, 16 минут, 40 секунд'"
      ]
     },
     "execution_count": 27,
     "metadata": {},
     "output_type": "execute_result"
    }
   ],
   "source": [
    "def cnt_time(n:int):\n",
    "    day = n // (60 * 60 *24)\n",
    "    hour = (n % (60 * 60 *24))//3600\n",
    "    min =  ((n % (60 * 60 *24))%3600)//60\n",
    "    sek = ((n % (60 * 60 *24))%60) % 60 \n",
    "    return f'{n} секунд = {day} день, {hour} час, {min} минут, {sek} секунд'\n",
    "cnt_time(91000)"
   ]
  },
  {
   "attachments": {},
   "cell_type": "markdown",
   "metadata": {},
   "source": [
    "12. Создайте пакет ‘figures’, состоящий из трех подпакетов: ‘triangle’, ‘circle’, ‘square’.\n",
    "\n",
    "В каждом подпакете будем иметь файл code.py, где создадим ряд функций:\n",
    "\n",
    "– для пакета ‘circle’: функции circle_perimeter() – вычисляет длину окружности, circle_area() – вычисляет площадь окружности. Еще заведем переменную default_radius = 5, которая будет скрыта при импорте модуля. Ее назначение – дефолтный радиус для окружности, если пользователь не введет свой. Обе функции принимают на вход только радиус.\n",
    "\n",
    "PS. Необходимые формулы\n",
    "\n",
    "Длина окружности: P = 2πR\n",
    "Площадь окружности: S = πR**2\n",
    "– для пакета ‘triangle’: функции triangle_perimeter() – вычисляет периметр треугольника, triangle_area() – вычисляет площадь фигуры. Дополнительно создадим три переменные (длины сторон треугольника): a = 7, b = 2, c = 8, которые также не будут видны при импорте. На вход функциям передается длина трех сторон (если пользователь ничего не введет, то используются значения по умолчанию).\n",
    "\n",
    "PS. Необходимые формулы\n",
    "\n",
    "Периметр квадрата: P = 4 * a\n",
    "Площадь квадрата: S = a**2\n",
    "– для пакета ‘square’: функции square_perimeter() – вычисляет периметр квадрата, square_area() – вычисляет площадь фигуры. Дополнительная переменная a = 15 не доступна при импорте и принимается функциями, если пользователь не предоставил свои размеры стороны квадрата.\n",
    "\n",
    "PS. Необходимые формулы\n",
    "\n",
    "Периметр треугольника: P=a+b+c\n",
    "Площадь треугольника:\n",
    "                      P=(a+b+c)/2\n",
    "                      S=√p(p-a)(p-b)(p-c)\n",
    "Ваша итоговая задача – позволить человеку, загрузившему ваш пакет, иметь возможность напрямую импортировать все функции из подпакетов. Например, он может написать так: ‘from figure import circle_area’."
   ]
  },
  {
   "cell_type": "code",
   "execution_count": 8,
   "metadata": {},
   "outputs": [
    {
     "name": "stdout",
     "output_type": "stream",
     "text": [
      "S_circle = 78.54\n",
      "p_circle = 31.42\n",
      "S_square = 600\n",
      "p_square = 100\n",
      "S_triangle = 6.44\n",
      "p_triangle = 17\n"
     ]
    }
   ],
   "source": [
    "from figures.circle.code import circle_perimeter,circle_area\n",
    "from figures.square.code import square_perimeter,square_area\n",
    "from figures.triangle.code import triangle_perimeter,triangle_area\n",
    "\n",
    "\n",
    "print('S_circle =',round(circle_area(),2))\n",
    "print('p_circle =',round(circle_perimeter(),2))\n",
    "\n",
    "print('S_square =',round(square_area(20,30),2))\n",
    "print('p_square =',round(square_perimeter(20,30),2))\n",
    "\n",
    "print('S_triangle =',round(triangle_area(7,2,8),2))\n",
    "print('p_triangle =',round(triangle_perimeter(7,2,8),2))\n"
   ]
  }
 ],
 "metadata": {
  "kernelspec": {
   "display_name": "Python 3",
   "language": "python",
   "name": "python3"
  },
  "language_info": {
   "codemirror_mode": {
    "name": "ipython",
    "version": 3
   },
   "file_extension": ".py",
   "mimetype": "text/x-python",
   "name": "python",
   "nbconvert_exporter": "python",
   "pygments_lexer": "ipython3",
   "version": "3.11.4"
  },
  "orig_nbformat": 4
 },
 "nbformat": 4,
 "nbformat_minor": 2
}
