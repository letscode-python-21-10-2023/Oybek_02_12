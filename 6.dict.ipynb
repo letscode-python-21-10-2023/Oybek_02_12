{
 "cells": [
  {
   "attachments": {},
   "cell_type": "markdown",
   "metadata": {},
   "source": [
    "Словари (Dict) / Методы словарей\n",
    "Если есть возможность, то напишите двумя вариантами, обычный и с генератором словаря\n",
    "\n",
    "1) Есть два словаря, объедините их:"
   ]
  },
  {
   "cell_type": "code",
   "execution_count": 3,
   "metadata": {},
   "outputs": [
    {
     "name": "stdout",
     "output_type": "stream",
     "text": [
      "{'meat': 90, 'milk': 15, 'bread': 3, 'potato': 6, 'apple': 20, 'banana': 25, 'chicken wings': 45, 'chocolate': 17, 'kiwi': 30, 'orange': 25, 'coca-cola': 10, 'chips': 18}\n"
     ]
    }
   ],
   "source": [
    "dict1 = {\n",
    "    'meat': 90,\n",
    "    'milk': 15,\n",
    "    'bread': 3,\n",
    "    'potato': 6,\n",
    "    'apple': 20,\n",
    "    'banana': 25,\n",
    "    'chicken wings': 45,\n",
    "    'chocolate': 17\n",
    "}\n",
    "dict2 = {\n",
    "    'kiwi': 30,\n",
    "    'orange': 25,\n",
    "    'coca-cola': 10,\n",
    "    'chips': 18\n",
    "}\n",
    "dict1.update(dict2)\n",
    "print(dict1)"
   ]
  },
  {
   "attachments": {},
   "cell_type": "markdown",
   "metadata": {},
   "source": [
    "2) Напишите сценарий Python для создания и печати словаря, содержащего число (от 1 до n включительно) (где n — введенное пользователем число) в форме (x, x * x).\n",
    "Введите число: 10\n",
    "(1: 1, 2: 4, 3: 9, 4: 16, 5: 25, 6: 36, 7: 49, 8: 64, 9: 81, 10: 100}"
   ]
  },
  {
   "cell_type": "code",
   "execution_count": 14,
   "metadata": {},
   "outputs": [
    {
     "name": "stdout",
     "output_type": "stream",
     "text": [
      "<class 'dict'>\n",
      "{1: 1, 2: 4, 3: 9, 4: 16, 5: 25, 6: 36, 7: 49, 8: 64, 9: 81, 10: 100}\n"
     ]
    }
   ],
   "source": [
    "num1=int(input('Введите число: '))\n",
    "x={}\n",
    "print(type(x)) \n",
    "for i in range(1,num1+1):\n",
    "    x[i]=i**2\n",
    "print(x)"
   ]
  },
  {
   "attachments": {},
   "cell_type": "markdown",
   "metadata": {},
   "source": [
    "3) Напишите код для суммирования всех значений словаря и вывод среднего арифметического значения.\n",
    "Введите число: 10\n",
    "Сумма всех значений: 385\n",
    "Среднее арифметическое: 38.5"
   ]
  },
  {
   "cell_type": "code",
   "execution_count": 15,
   "metadata": {},
   "outputs": [
    {
     "name": "stdout",
     "output_type": "stream",
     "text": [
      "Сумма всех клячей:  55\n",
      "Сумма всех значений:  385\n",
      "Среднее арифметическое:  38.5\n"
     ]
    }
   ],
   "source": [
    "print(f'Сумма всех клячей:  {sum(x.keys())}')\n",
    "print(f'Сумма всех значений:  {sum(x.values())}')\n",
    "print(f'Среднее арифметическое:  {sum(x.values())/len(x)}')"
   ]
  },
  {
   "attachments": {},
   "cell_type": "markdown",
   "metadata": {},
   "source": [
    "4) Напишите код для объединения двух списков в словарь ключ: значение. СПИСКИ ДОЛЖНЫ БЫТЬ ОДНОГО РАЗМЕРА (содержимое списков произвольный)\n",
    "Список1: ['management', 'sales', 'hr', 'production', 'admins']\n",
    "Список2: ['vlan10', 'vlan20', \"vlan30', \"vlan40', \"vlan50\"]\n",
    "Объединенный словарь: {'management': 'vlan10', 'sales': 'vlan20', 'hr': 'vlan30', 'production': 'vlan40', 'admins': 'vlan50'}"
   ]
  },
  {
   "cell_type": "code",
   "execution_count": 17,
   "metadata": {},
   "outputs": [
    {
     "name": "stdout",
     "output_type": "stream",
     "text": [
      "Список1: ['management', 'sales', 'hr', 'production', 'admins']\n",
      "Список2: ['vlan10', 'vlan20', 'vlan30', 'vlan40', 'vlan50']\n",
      "Объединенный словарь: {'management': 'vlan10', 'sales': 'vlan20', 'hr': 'vlan30', 'production': 'vlan40', 'admins': 'vlan50'}\n"
     ]
    }
   ],
   "source": [
    "list_key = ['management', 'sales', 'hr', 'production', 'admins']\n",
    "list_value = ['vlan10', 'vlan20', 'vlan30', 'vlan40', 'vlan50']\n",
    "x = {}\n",
    "num_place = 0\n",
    "for i in list_key:\n",
    "    x[i]=list_value[num_place]\n",
    "    num_place+=1\n",
    "print(f'Список1: {list_key}\\nСписок2: {list_value}\\nОбъединенный словарь: {x}')"
   ]
  },
  {
   "attachments": {},
   "cell_type": "markdown",
   "metadata": {},
   "source": [
    "5) Есть словарь координат городов:\n",
    "\n",
    "cities = {\n",
    "'Moscow': (550, 370),\n",
    "'London': (510, 510),\n",
    "'Paris': (480, 480),\n",
    "}\n",
    "Составьте словарь расстояний между городами по формуле:\n",
    "\n",
    "V (x1- x2) + (V1 - y23\n",
    "например расстояние между Лондоном и Парижем:\n",
    "V1510- 480} + (510 - 480/\n",
    "= 42.4264\n",
    "\n",
    "Используйте часть кода:\n",
    "\n",
    "distances = {}\n",
    "moscow = cities['Moscow']\n",
    "london = cities['London']\n",
    "paris = cities['Paris']\n",
    "\n",
    "{'London-Paris': 42.4264, \"Moscow-London': 145.6022, Moscow-Paris': 130.384}"
   ]
  },
  {
   "cell_type": "code",
   "execution_count": 28,
   "metadata": {},
   "outputs": [
    {
     "name": "stdout",
     "output_type": "stream",
     "text": [
      "{'London-Paris': 42.4264, 'Moscow-London': 145.6022, 'Moscow-Paris': 130.384}\n"
     ]
    }
   ],
   "source": [
    "cities = {\n",
    "'Moscow': (550, 370),\n",
    "'London': (510, 510),\n",
    "'Paris': (480, 480),\n",
    "}\n",
    "city_keys = [i for i in cities.keys()]\n",
    "\n",
    "distances = {}\n",
    "moscow = cities['Moscow']\n",
    "london = cities['London']\n",
    "paris = cities['Paris']\n",
    "\n",
    "def distance(a,b):\n",
    "    return round(((a[0]-b[0])**2+(a[1]-b[1])**2)**0.5,4)\n",
    "\n",
    "distances.update({f'{city_keys[1]}-{city_keys[2]}' : distance(london,paris)})\n",
    "distances.update({f'{city_keys[0]}-{city_keys[1]}' : distance(moscow,london)})\n",
    "distances.update({f'{city_keys[0]}-{city_keys[2]}' : distance(moscow,paris)})\n",
    "\n",
    "print(distances)"
   ]
  }
 ],
 "metadata": {
  "kernelspec": {
   "display_name": ".venv",
   "language": "python",
   "name": "python3"
  },
  "language_info": {
   "codemirror_mode": {
    "name": "ipython",
    "version": 3
   },
   "file_extension": ".py",
   "mimetype": "text/x-python",
   "name": "python",
   "nbconvert_exporter": "python",
   "pygments_lexer": "ipython3",
   "version": "3.11.4"
  },
  "orig_nbformat": 4
 },
 "nbformat": 4,
 "nbformat_minor": 2
}
