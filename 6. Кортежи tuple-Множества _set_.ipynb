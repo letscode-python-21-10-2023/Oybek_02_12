{
 "cells": [
  {
   "attachments": {},
   "cell_type": "markdown",
   "metadata": {},
   "source": [
    "Кортежи (tuple)/Множества (set)\n",
    "1. Есть кортеж a = (1, 1, 2, 3, 5, 8, 13, 21, 34, 55, 89)\n",
    "\n",
    "Выведите в отдельный кортеж числа, которые меньше или равны 5 и числа, которые больше 5.\n",
    "\n",
    "Кортеж чисел меньше или равных 5 (1, 1, 2, 3, 5)\n",
    "Кортеж чисел больше 5 (8, 13, 21, 34, 55, 89)"
   ]
  },
  {
   "cell_type": "code",
   "execution_count": 5,
   "metadata": {},
   "outputs": [
    {
     "name": "stdout",
     "output_type": "stream",
     "text": [
      "Кортеж чисел меньше или равных 5 (8, 13, 21, 34, 55, 89)\n",
      "Кортеж чисел больше 5 (1, 1, 2, 3, 5)\n"
     ]
    }
   ],
   "source": [
    "a = (1, 1, 2, 3, 5, 8, 13, 21, 34, 55, 89)\n",
    "h_5=[i for i in a if i>5]\n",
    "l_5=[i for i in a if i<=5]\n",
    "x_5 = tuple(h_5)\n",
    "y_5 = tuple(l_5)\n",
    "print(f'Кортеж чисел меньше или равных 5 {x_5}\\nКортеж чисел больше 5 {y_5}')"
   ]
  },
  {
   "attachments": {},
   "cell_type": "markdown",
   "metadata": {},
   "source": [
    "2. Вы принимаете от пользователя его имя, фамилию, возраст. Сохраните их в соответствующие переменные. Сохраните полученные значения в список.\n",
    "Введите ваше имя: Хасан\n",
    "Введите вашу фамилию: Карабаев\n",
    "Введите ваш возраст: 18\n",
    "Кортеж данных пользователя: ('Хасан', 'Карабаев', '18')"
   ]
  },
  {
   "cell_type": "code",
   "execution_count": 6,
   "metadata": {},
   "outputs": [
    {
     "name": "stdout",
     "output_type": "stream",
     "text": [
      "Кортеж данных пользователя: ('Oybek', 'Ismatov', '28')\n"
     ]
    }
   ],
   "source": [
    "name = input('Введите ваше имя: ')\n",
    "second_name = input('Введите вашу фамилию: ')\n",
    "age = input('Введите ваш возраст: ')\n",
    "truple1 = (name,second_name,age)\n",
    "print(f'Кортеж данных пользователя: {truple1}')"
   ]
  },
  {
   "attachments": {},
   "cell_type": "markdown",
   "metadata": {},
   "source": [
    "3. Напишите программу, которая принимает от пользователя секвенцию чисел, разделенных запятой и пробелом. После чего запишите каждое число в кортеж.\n",
    "Введите секвенцию чисел разделенных запятой и пробелом: 12, 34, 23, 67, 78, 22\n",
    "Кортеж чисел: ('12', '34', '23', '67', '78', '22')"
   ]
  },
  {
   "cell_type": "code",
   "execution_count": 8,
   "metadata": {},
   "outputs": [
    {
     "name": "stdout",
     "output_type": "stream",
     "text": [
      "('12', '34', '23', '67', '78', '22')\n"
     ]
    }
   ],
   "source": [
    "truple2 = input('Введите секвенцию чисел разделенных запятой и пробелом: ')\n",
    "truple3 = tuple(truple2.split(', '))\n",
    "print(truple3)"
   ]
  },
  {
   "attachments": {},
   "cell_type": "markdown",
   "metadata": {},
   "source": [
    "4.  Напишите программу, которая будет принимать три имени в качестве входных данных от пользователя в одном input() и превращать данные в кортеж, ну а затем доставать их:\n",
    "Введите три любых имени разделенные между собой пробелом: Лола Тимур Хадия\n",
    "Кортеж имен: ('Лола', 'Тимур', 'Хадия')\n",
    "Первое имя: Лола\n",
    "Второе имя: Тимур\n",
    "Третье имя: Хадия"
   ]
  },
  {
   "cell_type": "code",
   "execution_count": 10,
   "metadata": {},
   "outputs": [
    {
     "name": "stdout",
     "output_type": "stream",
     "text": [
      "Кортеж имен: ('Лола', 'Тимур', 'Хадия')\n",
      "Первое имя: Лола\n",
      "Второе имя: Тимур\n",
      "Третье имя: Хадия\n"
     ]
    }
   ],
   "source": [
    "input_1 = input('Введите три любых имени разделенные между собой пробелом: ')\n",
    "truple_4 = tuple(input_1.split(' '))\n",
    "print(f'Кортеж имен: {truple_4}\\nПервое имя: {truple_4[0]}\\nВторое имя: {truple_4[1]}\\nТретье имя: {truple_4[2]}')"
   ]
  },
  {
   "attachments": {},
   "cell_type": "markdown",
   "metadata": {},
   "source": [
    "5. Дан кортеж чисел numbers = (1, 2, 3, 4, 5, 6, 7). напишите программу, которая превращает каждый элемент кортежа в его квадрат и образует второй кортеж.\n",
    "Кортеж чисел: (1, 2, 3, 4, 5, 6, 7)\n",
    "Кортеж квадратов: (1, 4, 9, 16, 25, 36, 49)"
   ]
  },
  {
   "cell_type": "code",
   "execution_count": 11,
   "metadata": {},
   "outputs": [
    {
     "name": "stdout",
     "output_type": "stream",
     "text": [
      "Кортеж чисел: (1, 2, 3, 4, 5, 6, 7)\n",
      "Кортеж квадратов: (1, 4, 9, 16, 25, 36, 49)\n"
     ]
    }
   ],
   "source": [
    "numbers = (1, 2, 3, 4, 5, 6, 7)\n",
    "num_kv=tuple([i**2 for i in numbers])\n",
    "print(f'Кортеж чисел: {numbers}\\nКортеж квадратов: {num_kv}')"
   ]
  },
  {
   "attachments": {},
   "cell_type": "markdown",
   "metadata": {},
   "source": [
    "6. Напишите программу, которая выводит все четные числа из кортежа в исходном порядке, и останавливается когда число равно 815.\n",
    "numbers = (386, 462, 47, 418, 907, 344, 236, 375, 823, 566, 597, 978, 328, 615, 953, 345, 399, 162, 758, 219, 918, 237, 412, 566, 826, 248, 866, 950, 626, 949, 687, 217, 815, 67, 104, 58, 512, 24, 892, 894, 767, 553, 81, 379, 843, 831, 445, 742, 717, 958,743, 527)"
   ]
  },
  {
   "cell_type": "code",
   "execution_count": 12,
   "metadata": {},
   "outputs": [
    {
     "name": "stdout",
     "output_type": "stream",
     "text": [
      "386\n",
      "462\n",
      "418\n",
      "344\n",
      "236\n",
      "566\n",
      "978\n",
      "328\n",
      "162\n",
      "758\n",
      "918\n",
      "412\n",
      "566\n",
      "826\n",
      "248\n",
      "866\n",
      "950\n",
      "626\n"
     ]
    }
   ],
   "source": [
    "numbers = (386, 462, 47, 418, 907, 344, 236, 375, 823, 566, 597, 978, 328, 615, 953, 345, 399, 162, 758, 219, 918, 237, 412, 566, 826, 248, 866, 950, 626, 949, 687, 217, 815, 67, 104, 58, 512, 24, 892, 894, 767, 553, 81, 379, 843, 831, 445, 742, 717, 958,743, 527)\n",
    "for i in numbers:\n",
    "    if i==815:\n",
    "        break\n",
    "    if i%2 == 0:\n",
    "        print(i)\n"
   ]
  },
  {
   "attachments": {},
   "cell_type": "markdown",
   "metadata": {},
   "source": [
    "7. Есть кортеж с данными numbers = (12, 33, 44, 33, 12, 45, 11, 55, ’44’, 30, 10), создайте список и кортеж данных без дубликатов\n",
    "[33, 10, 11, 12, 45, 44, '44', 55, 301]\n",
    "(33, 10, 11, 12, 45, 44, '44', 55, 301)"
   ]
  },
  {
   "cell_type": "code",
   "execution_count": 14,
   "metadata": {},
   "outputs": [
    {
     "name": "stdout",
     "output_type": "stream",
     "text": [
      "[33, 10, 11, 12, 45, 44, 55, 30]\n",
      "(33, 10, 11, 12, 45, 44, 55, 30)\n"
     ]
    }
   ],
   "source": [
    "numbers = (12, 33, 44, 33, 12, 45, 11, 55, 44, 30, 10)\n",
    "set1 = set(numbers)\n",
    "print(f'{list(set1)}\\n{tuple(set1)}')"
   ]
  },
  {
   "attachments": {},
   "cell_type": "markdown",
   "metadata": {},
   "source": [
    "8. Получите кортеж VLANов со строки:\n",
    "\n",
    "config_sw1 = 'switchport trunk allowed vlan 10,20,30,40,50,70'\n",
    "config_sw2 = 'switchport trunk allowed vlan 80,90,10,45,50,100'\n",
    "общих vlan\n",
    "vlan которые есть в config_sw1 но нет в config_sw2\n",
    "уникальные vlan c двух сторон\n",
    "все vlan без дубликатов\n",
    "('50', \"10\")\n",
    "('40','70''30','20')\n",
    "('100','30', \"40\", \"70',\"20', '45', '80', \"90')\n",
    "('100',' 30','40', '50', '10', \"70', \"20', '45','80', \"90')"
   ]
  },
  {
   "cell_type": "code",
   "execution_count": 33,
   "metadata": {},
   "outputs": [
    {
     "name": "stdout",
     "output_type": "stream",
     "text": [
      "{'10', '50'}\n",
      "{'40', '20', '30', '70'}\n",
      "{'45', '20', '30', '70', '40', '90', '80', '100'}\n",
      "{'80', '50', '45', '20', '30', '100', '70', '40', '10', '90'}\n"
     ]
    }
   ],
   "source": [
    "config_sw1 = 'switchport trunk allowed vlan 10,20,30,40,50,70'\n",
    "config_sw2 = 'switchport trunk allowed vlan 80,90,10,45,50,100'\n",
    "vlan_1 = set(config_sw1.split(' ')[4].split(','))\n",
    "vlan_2 = set(config_sw2.split(' ')[4].split(','))\n",
    "intersection = vlan_1.intersection(vlan_2)\n",
    "difference_1 = vlan_1.difference(vlan_2)\n",
    "sym_dif = vlan_1.symmetric_difference(vlan_2)\n",
    "union_1 = vlan_1.union(vlan_2)\n",
    "\n",
    "print(intersection,difference_1,sym_dif,union_1,sep='\\n')"
   ]
  }
 ],
 "metadata": {
  "kernelspec": {
   "display_name": ".venv",
   "language": "python",
   "name": "python3"
  },
  "language_info": {
   "codemirror_mode": {
    "name": "ipython",
    "version": 3
   },
   "file_extension": ".py",
   "mimetype": "text/x-python",
   "name": "python",
   "nbconvert_exporter": "python",
   "pygments_lexer": "ipython3",
   "version": "3.11.4"
  },
  "orig_nbformat": 4
 },
 "nbformat": 4,
 "nbformat_minor": 2
}
